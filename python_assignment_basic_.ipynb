{
  "nbformat": 4,
  "nbformat_minor": 0,
  "metadata": {
    "colab": {
      "provenance": []
    },
    "kernelspec": {
      "name": "python3",
      "display_name": "Python 3"
    },
    "language_info": {
      "name": "python"
    }
  },
  "cells": [
    {
      "cell_type": "code",
      "execution_count": null,
      "metadata": {
        "id": "4iO5GCI5svhL"
      },
      "outputs": [],
      "source": []
    },
    {
      "cell_type": "markdown",
      "source": [
        "# python basics\n"
      ],
      "metadata": {
        "id": "SmNDiZ7dsxrS"
      }
    },
    {
      "cell_type": "code",
      "source": [],
      "metadata": {
        "id": "j8PctwzGs4_h"
      },
      "execution_count": null,
      "outputs": []
    },
    {
      "cell_type": "markdown",
      "source": [
        "1. what is python, and why is it popular?\n",
        "\n",
        "  -Easy to read and write – It looks a lot like English, so it's great for beginners.\n",
        "\n",
        "  Versatile – You can use it for websites, apps, games, data analysis, AI, and more.\n",
        "\n",
        "  Big community – Lots of people use it, so there are many free tools and help available.\n",
        "\n",
        "  Works everywhere – It runs on most computers and systems.\n",
        "\n",
        "2. what is interpreter in python?\n",
        "\n",
        "  -An interpreter in Python is a program that reads and runs your Python code line by line.\n",
        "\n",
        "  You write Python code (like print(\"Hello\")).\n",
        "\n",
        "  The Python interpreter reads your code one line at a time.\n",
        "\n",
        "  It translates each line into instructions the computer can understand and executes them right away.\n",
        "\n",
        "3. what are pre-defined keywords in python?\n",
        "\n",
        "   -Pre-defined keywords in Python are special words that have fixed meanings in the language. You cannot use them as variable names because Python already uses them to understand what your code should do.\n",
        "\n",
        "   Examples of Python keywords:\n",
        "\n",
        "   if – for conditions\n",
        "\n",
        "   else – for alternate actions\n",
        "\n",
        "   while – for loops\n",
        "\n",
        "   for – for repeating actions\n",
        "\n",
        "   def – to define a function\n",
        "\n",
        "   return – to return a value from a function\n",
        "\n",
        "   True, False – Boolean values\n",
        "\n",
        "   None – represents nothing or no value\n",
        "\n",
        "4.can keywords be used as variable names?  \n",
        "\n",
        "   -No, keywords cannot be used as variable names in Python.\n",
        "\n",
        "  That's because they are reserved words that Python uses to understand the structure and logic of your code. If you try to use a keyword as a variable, Python will give you a syntax error\n",
        "\n",
        "5.what is mutability in python?  \n",
        "\n",
        "   -Mutability in Python means whether or not a value (object) can be changed after it is created.\n",
        "\n",
        " Mutable – Can be changed after creation\n",
        " Examples:\n",
        "\n",
        "  list\n",
        "\n",
        "  dict (dictionary)\n",
        "\n",
        "  set.\n",
        "\n",
        "6. why are lists mutable,but tuples are immutable?\n",
        "\n",
        "  -Lists are mutable because they are designed to be flexible — you can add, remove, or change their items.\n",
        "\n",
        "   Tuples are immutable because they are meant to be fixed collections of items  used when you want to make sure the data cannot be changed.\n",
        "\n",
        "7. what is the difference between \"==\" and \"is\" operators in python?\n",
        "\n",
        "  -> == (Equality Operator)\n",
        "\n",
        "  Purpose: Compares values of two objects.\n",
        "\n",
        "  Meaning: Checks if the data stored inside the objects is the same.\n",
        "\n",
        "  Can be customized: A class can define its own way of checking equality using the __eq__() method.\n",
        "\n",
        "  -> is (Identity Operator)\n",
        "\n",
        "  Purpose: Compares object identities.\n",
        "\n",
        "  Meaning: Checks if both variables refer to the exact same object in memory.\n",
        "\n",
        "  Cannot be customized: It uses the unique memory address of the objects.\n",
        "\n",
        "8. what are logical operators in python?\n",
        "\n",
        "  -> and Operator\n",
        "\n",
        "   Returns True only if both operands are True.\n",
        "\n",
        "   Used when all conditions must be true.\n",
        "\n",
        "   Logical conjunction.\n",
        "\n",
        "  ->or Operator\n",
        "\n",
        "  Returns True if at least one operand is True.\n",
        "\n",
        "  Used when any one condition being true is enough.\n",
        "\n",
        "  Logical disjunction.\n",
        "\n",
        " ->not Operator\n",
        "\n",
        "  Returns the opposite boolean value of the operand.\n",
        "\n",
        "  Used to invert a condition.\n",
        "\n",
        "  Logical negation.\n",
        "\n",
        "9. what is type casting in python?\n",
        "\n",
        "  -> Type casting in Python refers to converting one data type to another. This is important because sometimes you might need to convert variables between different types (e.g., converting an integer to a string, or a float to an integer).\n",
        "\n",
        "  ->There are two types of type casting in Python\n",
        "\n",
        "  1. Implicit Type Casting (Automatic Casting)\n",
        "  Python automatically converts one data type to another when needed, without the programmer having to do anything. This usually happens when you're working with compatible types.\n",
        "\n",
        "  2.Explicit Type Casting (Manual Casting)\n",
        "   Sometimes, you want to manually convert a value from one type to another. This is done using casting functions like:\n",
        "\n",
        "   int() – Converts to an integer\n",
        "\n",
        "   float() – Converts to a float\n",
        "\n",
        "   str() – Converts to a string\n",
        "\n",
        "10. what are difference between implicit and explicit type casting?\n",
        "\n",
        "  -> 1. Implicit Type Casting (Automatic Casting)\n",
        "Definition: The Python interpreter automatically converts one data type to another without requiring explicit instructions from the programmer.\n",
        "\n",
        "   When does it happen?: Implicit casting happens when the types are compatible (e.g., integer to float) and no data loss occurs.\n",
        "\n",
        "   Why is it used?: Python handles this automatically to ensure smooth operations when working with mixed data types in expressions.\n",
        "\n",
        "  ->2. Explicit Type Casting (Manual Casting)\n",
        "Definition: The programmer explicitly converts one data type to another by using built-in functions like int(), float(), or str().\n",
        "\n",
        "  When does it happen?: Explicit casting is used when the programmer needs to manually control the conversion, typically when working with types that are not automatically compatible, or when data loss or precision matters.\n",
        "\n",
        "  Why is it used?: It's needed when Python cannot automatically decide how to convert or when you want to ensure precise control over how data is transformed.\n",
        "\n",
        "\n",
        "11. what is the purpose of conditional statement in python?\n",
        "\n",
        "   ->Conditional statements in Python allow you to control the flow of your program based on certain conditions. They let you make decisions in your code, so that different actions can be taken depending on whether a condition is True or False.\n",
        "\n",
        "   In simple terms, conditional statements help you to decide what the program should do next, based on the values or results you are working with.\n",
        "\n",
        "   -> types of conditional statement are:-\n",
        "\n",
        "   ->if statement\n",
        "\n",
        "   ->elif statement\n",
        "\n",
        "   ->else statement.\n",
        "\n",
        "  12.how does the elif statement work?\n",
        "\n",
        "  ->The elif statement is used after an if statement to check additional conditions if the previous if (or elif) conditions were false.\n",
        "\n",
        "  Once one of the conditions is True, the corresponding block of code executes, and the remaining conditions are skipped.\n",
        "\n",
        "  If none of the if or elif conditions are true, the else block (if present) will execute.\n",
        "\n",
        " 13.what is difference between for and while loop?\n",
        "\n",
        "  ->. for Loop\n",
        "   Purpose: The for loop is typically used when you know in advance how many times you want to repeat a block of code, or when you have a sequence (like a list, string, or range) that you want to iterate over.\n",
        "\n",
        "   Structure: It iterates over a sequence (e.g., list, tuple, string, range) or any iterable object\n",
        "\n",
        "  ->while Loop\n",
        "   Purpose: The while loop is used when you want to repeat a block of code as long as a condition is true. You don’t necessarily know how many iterations you need in advance, but you know the loop should continue as long as a condition holds.\n",
        "\n",
        "   Structure: It runs as long as a specified condition evaluates to True."
      ],
      "metadata": {
        "id": "Qq5PYtaJtIu3"
      }
    },
    {
      "cell_type": "code",
      "source": [],
      "metadata": {
        "id": "1K-EYuxG3hb-"
      },
      "execution_count": null,
      "outputs": []
    },
    {
      "cell_type": "markdown",
      "source": [
        "# practical questions"
      ],
      "metadata": {
        "id": "DByKn2gv3-UL"
      }
    },
    {
      "cell_type": "code",
      "source": [
        "# 1. write a python program to print \"Hello,World!\"\n",
        "print(\"Hello,World!\")\n"
      ],
      "metadata": {
        "colab": {
          "base_uri": "https://localhost:8080/"
        },
        "id": "dtsrs85j4CFD",
        "outputId": "f268c691-9952-43f2-f466-0dbc542c87fd"
      },
      "execution_count": 2,
      "outputs": [
        {
          "output_type": "stream",
          "name": "stdout",
          "text": [
            "Hello,World!\n"
          ]
        }
      ]
    },
    {
      "cell_type": "code",
      "source": [
        "# 2.write a python program that displays your name and age.\n",
        "name = \"simran\"\n",
        "age = 21\n",
        "print(\"my name is \",name)\n",
        "print(\"my age is\",age)"
      ],
      "metadata": {
        "colab": {
          "base_uri": "https://localhost:8080/"
        },
        "id": "BJL8EAmS6eeJ",
        "outputId": "52d300fd-ff9b-437f-cd76-e09229983fe5"
      },
      "execution_count": 23,
      "outputs": [
        {
          "output_type": "stream",
          "name": "stdout",
          "text": [
            "my name is  simran\n",
            "my age is 21\n"
          ]
        }
      ]
    },
    {
      "cell_type": "code",
      "source": [
        " #3.write code to print all the pre-defined keywords in python using the keyword library\n",
        "Help (\"keywords\")\n",
        "\n",
        "\n"
      ],
      "metadata": {
        "colab": {
          "base_uri": "https://localhost:8080/"
        },
        "id": "qST_tcLB52qR",
        "outputId": "66df068a-8503-46d8-871a-247fd31b9f7d"
      },
      "execution_count": 6,
      "outputs": [
        {
          "output_type": "stream",
          "name": "stdout",
          "text": [
            "\n",
            "Here is a list of the Python keywords.  Enter any keyword to get more help.\n",
            "\n",
            "False               class               from                or\n",
            "None                continue            global              pass\n",
            "True                def                 if                  raise\n",
            "and                 del                 import              return\n",
            "as                  elif                in                  try\n",
            "assert              else                is                  while\n",
            "async               except              lambda              with\n",
            "await               finally             nonlocal            yield\n",
            "break               for                 not                 \n",
            "\n"
          ]
        }
      ]
    },
    {
      "cell_type": "code",
      "source": [
        "#4. write a program that checks if a given word is a python keyword.\n",
        "import keyword\n",
        "\n",
        "# Ask the user for a word\n",
        "word = input(\"Enter a word to check if it's a Python keyword: \")\n",
        "\n",
        "# Check if the word is a Python keyword\n",
        "if keyword.iskeyword(word):\n",
        "    print(f\"'{word}' is a Python keyword.\")\n",
        "else:\n",
        "    print(f\"'{word}' is NOT a Python keyword.\")\n",
        "\n",
        ""
      ],
      "metadata": {
        "colab": {
          "base_uri": "https://localhost:8080/"
        },
        "id": "QEpqjJgS71Vr",
        "outputId": "e5daad46-899e-4ce2-c08e-a5989b82e153"
      },
      "execution_count": 28,
      "outputs": [
        {
          "output_type": "stream",
          "name": "stdout",
          "text": [
            "Enter a word to check if it's a Python keyword: is\n",
            "'is' is a Python keyword.\n"
          ]
        }
      ]
    },
    {
      "cell_type": "code",
      "source": [
        "#5. create a list and tuple in python,and demonstrate how attempting to change an element works differently.\n",
        "my_list=[1,2,3,4,5]\n",
        "my_tuple=(1,2,3,4,5)\n",
        "\n",
        "my_list[1]=100\n",
        "my_list\n",
        "\n",
        "my_tuple[1]=10\n",
        "# error occur because we cannot modify or change items in tuple"
      ],
      "metadata": {
        "colab": {
          "base_uri": "https://localhost:8080/",
          "height": 176
        },
        "id": "9Arz4cgz8p8E",
        "outputId": "fe9a1e8f-f242-4554-a0e6-ef4d299be681"
      },
      "execution_count": 27,
      "outputs": [
        {
          "output_type": "error",
          "ename": "TypeError",
          "evalue": "'tuple' object does not support item assignment",
          "traceback": [
            "\u001b[0;31m---------------------------------------------------------------------------\u001b[0m",
            "\u001b[0;31mTypeError\u001b[0m                                 Traceback (most recent call last)",
            "\u001b[0;32m<ipython-input-27-7f219aad0ecf>\u001b[0m in \u001b[0;36m<cell line: 0>\u001b[0;34m()\u001b[0m\n\u001b[1;32m      6\u001b[0m \u001b[0mmy_list\u001b[0m\u001b[0;34m\u001b[0m\u001b[0;34m\u001b[0m\u001b[0m\n\u001b[1;32m      7\u001b[0m \u001b[0;34m\u001b[0m\u001b[0m\n\u001b[0;32m----> 8\u001b[0;31m \u001b[0mmy_tuple\u001b[0m\u001b[0;34m[\u001b[0m\u001b[0;36m1\u001b[0m\u001b[0;34m]\u001b[0m\u001b[0;34m=\u001b[0m\u001b[0;36m10\u001b[0m\u001b[0;34m\u001b[0m\u001b[0;34m\u001b[0m\u001b[0m\n\u001b[0m",
            "\u001b[0;31mTypeError\u001b[0m: 'tuple' object does not support item assignment"
          ]
        }
      ]
    },
    {
      "cell_type": "code",
      "source": [
        "# 6.write a function to demonstrate the behavior of mutable and immutable arguments\n",
        "def modify_arguments(immutable_arg, mutable_arg):\n",
        "    # Modifying the immutable argument (this won't affect the original value outside the function)\n",
        "    print(\"Inside the function - Before modification:\")\n",
        "    print(f\"Immutable argument: {immutable_arg}\")\n",
        "    print(f\"Mutable argument: {mutable_arg}\")\n",
        "\n",
        "    # Trying to change the immutable argument (it will create a new object inside the function)\n",
        "    immutable_arg = 100\n",
        "    mutable_arg.append(4)  # Mutable object can be modified\n",
        "\n",
        "    print(\"\\nInside the function - After modification:\")\n",
        "    print(f\"Immutable argument (modified inside function): {immutable_arg}\")\n",
        "    print(f\"Mutable argument (modified inside function): {mutable_arg}\")\n",
        "\n",
        "# Test the function\n",
        "immutable_value = 50\n",
        "mutable_value = [1, 2, 3]\n",
        "\n",
        "modify_arguments(immutable_value, mutable_value)\n",
        "\n",
        "# After the function call\n",
        "print(\"\\nOutside the function - After modification:\")\n",
        "print(f\"Immutable argument (outside the function): {immutable_value}\")\n",
        "print(f\"Mutable argument (outside the function): {mutable_value}\")\n"
      ],
      "metadata": {
        "colab": {
          "base_uri": "https://localhost:8080/"
        },
        "id": "E_8WpObS9OgW",
        "outputId": "3c2989d0-b14c-4d04-b464-d0876b287ea0"
      },
      "execution_count": 29,
      "outputs": [
        {
          "output_type": "stream",
          "name": "stdout",
          "text": [
            "Inside the function - Before modification:\n",
            "Immutable argument: 50\n",
            "Mutable argument: [1, 2, 3]\n",
            "\n",
            "Inside the function - After modification:\n",
            "Immutable argument (modified inside function): 100\n",
            "Mutable argument (modified inside function): [1, 2, 3, 4]\n",
            "\n",
            "Outside the function - After modification:\n",
            "Immutable argument (outside the function): 50\n",
            "Mutable argument (outside the function): [1, 2, 3, 4]\n"
          ]
        }
      ]
    },
    {
      "cell_type": "code",
      "source": [
        "#7. write a program that performs basic arthmetic operations on two user-input number\n",
        "def arithmetic_operations(num1, num2):\n",
        "    # Addition\n",
        "    addition = num1 + num2\n",
        "    print(f\"Addition: {num1} + {num2} = {addition}\")\n",
        "\n",
        "    # Subtraction\n",
        "    subtraction = num1 - num2\n",
        "    print(f\"Subtraction: {num1} - {num2} = {subtraction}\")\n",
        "\n",
        "    # Multiplication\n",
        "    multiplication = num1 * num2\n",
        "    print(f\"Multiplication: {num1} * {num2} = {multiplication}\")\n",
        "\n",
        "    # Division\n",
        "    # Checking for division by zero\n",
        "    if num2 != 0:\n",
        "        division = num1 / num2\n",
        "        print(f\"Division: {num1} / {num2} = {division}\")\n",
        "    else:\n",
        "        print(\"Division: Cannot divide by zero!\")\n",
        "\n",
        "# Taking user input for two numbers\n",
        "try:\n",
        "    num1 = float(input(\"Enter the first number: \"))\n",
        "    num2 = float(input(\"Enter the second number: \"))\n",
        "\n",
        "    # Perform arithmetic operations\n",
        "    arithmetic_operations(num1, num2)\n",
        "\n",
        "except ValueError:\n",
        "    print(\"Please enter valid numbers!\")"
      ],
      "metadata": {
        "colab": {
          "base_uri": "https://localhost:8080/"
        },
        "id": "ZFb6dNB_BjQO",
        "outputId": "92ef4789-e9aa-4802-a1d3-4cb554cd81df"
      },
      "execution_count": 32,
      "outputs": [
        {
          "output_type": "stream",
          "name": "stdout",
          "text": [
            "Enter the first number: 12\n",
            "Enter the second number: 12\n",
            "Addition: 12.0 + 12.0 = 24.0\n",
            "Subtraction: 12.0 - 12.0 = 0.0\n",
            "Multiplication: 12.0 * 12.0 = 144.0\n",
            "Division: 12.0 / 12.0 = 1.0\n"
          ]
        }
      ]
    },
    {
      "cell_type": "code",
      "source": [
        "#8.write a program to demonstrate the use of logical operators.\n",
        "# Take two numbers as input\n",
        "x = int(input(\"Enter the first number: \"))\n",
        "y = int(input(\"Enter the second number: \"))\n",
        "\n",
        "# Using logical operators\n",
        "print(f\"AND operation (x > 0 and y > 0): {x > 0 and y > 0}\")\n",
        "print(f\"OR operation (x > 0 or y > 0): {x > 0 or y > 0}\")\n",
        "print(f\"NOT operation (not x > 0): {not x > 0}\")"
      ],
      "metadata": {
        "colab": {
          "base_uri": "https://localhost:8080/"
        },
        "id": "O3916uf3CAak",
        "outputId": "11a0d614-f719-443f-b425-f1dc9576cf4d"
      },
      "execution_count": 33,
      "outputs": [
        {
          "output_type": "stream",
          "name": "stdout",
          "text": [
            "Enter the first number: 10\n",
            "Enter the second number: 1\n",
            "AND operation (x > 0 and y > 0): True\n",
            "OR operation (x > 0 or y > 0): True\n",
            "NOT operation (not x > 0): False\n"
          ]
        }
      ]
    },
    {
      "cell_type": "code",
      "source": [
        "#9.write a python program to convert user input from string to integer,float and boolean types\n",
        "# Take user input as a string\n",
        "user_input = input(\"Enter something: \")\n",
        "\n",
        "# Convert to integer\n",
        "int_value = int(user_input) if user_input.isdigit() else \"Invalid integer\"\n",
        "\n",
        "# Convert to float\n",
        "try:\n",
        "    float_value = float(user_input)\n",
        "except ValueError:\n",
        "    float_value = \"Invalid float\"\n",
        "\n",
        "# Convert to boolean (True if any non-empty string, else False)\n",
        "bool_value = bool(user_input) if user_input.lower() not in ['false', '0', ''] else False\n",
        "\n",
        "# Display the results\n",
        "print(f\"Integer: {int_value}\")\n",
        "print(f\"Float: {float_value}\")\n",
        "print(f\"Boolean: {bool_value}\")"
      ],
      "metadata": {
        "colab": {
          "base_uri": "https://localhost:8080/"
        },
        "id": "CMx7_ohzC5kS",
        "outputId": "1124ccaa-c3e1-4cf7-d069-2412bb126378"
      },
      "execution_count": 34,
      "outputs": [
        {
          "output_type": "stream",
          "name": "stdout",
          "text": [
            "Enter something: 10\n",
            "Integer: 10\n",
            "Float: 10.0\n",
            "Boolean: True\n"
          ]
        }
      ]
    },
    {
      "cell_type": "code",
      "source": [
        "#11.write a for loop to print numbers from 1 to 10.\n",
        "for i in range(1, 11):\n",
        "    print(i)\n",
        ""
      ],
      "metadata": {
        "colab": {
          "base_uri": "https://localhost:8080/"
        },
        "id": "u8OGJfElDejG",
        "outputId": "4dbaa21b-e2a1-4ac5-9cf9-1efc7770a977"
      },
      "execution_count": 35,
      "outputs": [
        {
          "output_type": "stream",
          "name": "stdout",
          "text": [
            "1\n",
            "2\n",
            "3\n",
            "4\n",
            "5\n",
            "6\n",
            "7\n",
            "8\n",
            "9\n",
            "10\n"
          ]
        }
      ]
    },
    {
      "cell_type": "code",
      "source": [],
      "metadata": {
        "id": "G2kr6JWzEqU6"
      },
      "execution_count": null,
      "outputs": []
    }
  ]
}